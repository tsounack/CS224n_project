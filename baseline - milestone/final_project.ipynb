{
 "cells": [
  {
   "cell_type": "code",
   "execution_count": 1,
   "metadata": {},
   "outputs": [],
   "source": [
    "import pandas as pd\n",
    "import ast\n",
    "from extractive_qa import ExtractiveQA"
   ]
  },
  {
   "cell_type": "code",
   "execution_count": 2,
   "metadata": {},
   "outputs": [],
   "source": [
    "dataset = pd.read_csv(\"../dataset.csv\")"
   ]
  },
  {
   "cell_type": "code",
   "execution_count": 3,
   "metadata": {},
   "outputs": [
    {
     "data": {
      "text/html": [
       "<div>\n",
       "<style scoped>\n",
       "    .dataframe tbody tr th:only-of-type {\n",
       "        vertical-align: middle;\n",
       "    }\n",
       "\n",
       "    .dataframe tbody tr th {\n",
       "        vertical-align: top;\n",
       "    }\n",
       "\n",
       "    .dataframe thead th {\n",
       "        text-align: right;\n",
       "    }\n",
       "</style>\n",
       "<table border=\"1\" class=\"dataframe\">\n",
       "  <thead>\n",
       "    <tr style=\"text-align: right;\">\n",
       "      <th></th>\n",
       "      <th>Question</th>\n",
       "      <th>Paragraph</th>\n",
       "      <th>Page</th>\n",
       "      <th>answer</th>\n",
       "      <th>bm25_k=3_pages</th>\n",
       "      <th>bm25_mugi_k=3_pages</th>\n",
       "      <th>cosine_similarity_k=3</th>\n",
       "      <th>bm25_mugi_k=3_pages_num_queries=3_norerank</th>\n",
       "      <th>bm25_mugi_k=3_pages_num_queries=5_norerank</th>\n",
       "    </tr>\n",
       "  </thead>\n",
       "  <tbody>\n",
       "    <tr>\n",
       "      <th>0</th>\n",
       "      <td>What type of contract is the Lakers Practice F...</td>\n",
       "      <td>Back-Check No. 2 - ASI 009 January 15, 2016 La...</td>\n",
       "      <td>3</td>\n",
       "      <td>single prime contract</td>\n",
       "      <td>[1, 1, 117]</td>\n",
       "      <td>[70, 117, 67]</td>\n",
       "      <td>[164, 189, 286]</td>\n",
       "      <td>[67, 67, 1]</td>\n",
       "      <td>[67, 43, 43]</td>\n",
       "    </tr>\n",
       "    <tr>\n",
       "      <th>1</th>\n",
       "      <td>What is the project number?</td>\n",
       "      <td>Back-Check No. 2 - ASI 009 January 15, 2016 La...</td>\n",
       "      <td>3</td>\n",
       "      <td>2014-015</td>\n",
       "      <td>[1, 1, 26]</td>\n",
       "      <td>[12, 1, 21]</td>\n",
       "      <td>[6, 286, 84]</td>\n",
       "      <td>[1, 116, 40]</td>\n",
       "      <td>[1, 1, 36]</td>\n",
       "    </tr>\n",
       "    <tr>\n",
       "      <th>2</th>\n",
       "      <td>Who is the architect of this project?</td>\n",
       "      <td>Back-Check No. 2 - ASI 009 January 15, 2016 La...</td>\n",
       "      <td>3</td>\n",
       "      <td>Rossetti Associates, Inc.</td>\n",
       "      <td>[48, 48, 48]</td>\n",
       "      <td>[68, 32, 203]</td>\n",
       "      <td>[203, 30, 31]</td>\n",
       "      <td>[48, 48, 33]</td>\n",
       "      <td>[33, 97, 117]</td>\n",
       "    </tr>\n",
       "    <tr>\n",
       "      <th>3</th>\n",
       "      <td>What is the telephone number of the Architect?</td>\n",
       "      <td>Back-Check No. 2 - ASI 009 January 15, 2016 La...</td>\n",
       "      <td>3</td>\n",
       "      <td>(313) 463-5151</td>\n",
       "      <td>[26, 1, 47]</td>\n",
       "      <td>[20, 36, 25]</td>\n",
       "      <td>[34, 119, 203]</td>\n",
       "      <td>[1, 1, 117]</td>\n",
       "      <td>[1, 1, 119]</td>\n",
       "    </tr>\n",
       "    <tr>\n",
       "      <th>4</th>\n",
       "      <td>What is the address of the Architect?</td>\n",
       "      <td>Back-Check No. 2 - ASI 009 January 15, 2016 La...</td>\n",
       "      <td>3</td>\n",
       "      <td>160 West Fort, Suite 400, Detroit, Michigan 48226</td>\n",
       "      <td>[1, 1, 117]</td>\n",
       "      <td>[68, 46, 2]</td>\n",
       "      <td>[119, 203, 34]</td>\n",
       "      <td>[1, 1, 14]</td>\n",
       "      <td>[1, 1, 117]</td>\n",
       "    </tr>\n",
       "  </tbody>\n",
       "</table>\n",
       "</div>"
      ],
      "text/plain": [
       "                                            Question  \\\n",
       "0  What type of contract is the Lakers Practice F...   \n",
       "1                        What is the project number?   \n",
       "2              Who is the architect of this project?   \n",
       "3     What is the telephone number of the Architect?   \n",
       "4              What is the address of the Architect?   \n",
       "\n",
       "                                           Paragraph  Page  \\\n",
       "0  Back-Check No. 2 - ASI 009 January 15, 2016 La...     3   \n",
       "1  Back-Check No. 2 - ASI 009 January 15, 2016 La...     3   \n",
       "2  Back-Check No. 2 - ASI 009 January 15, 2016 La...     3   \n",
       "3  Back-Check No. 2 - ASI 009 January 15, 2016 La...     3   \n",
       "4  Back-Check No. 2 - ASI 009 January 15, 2016 La...     3   \n",
       "\n",
       "                                              answer bm25_k=3_pages  \\\n",
       "0                              single prime contract    [1, 1, 117]   \n",
       "1                                           2014-015     [1, 1, 26]   \n",
       "2                          Rossetti Associates, Inc.   [48, 48, 48]   \n",
       "3                                     (313) 463-5151    [26, 1, 47]   \n",
       "4  160 West Fort, Suite 400, Detroit, Michigan 48226    [1, 1, 117]   \n",
       "\n",
       "  bm25_mugi_k=3_pages cosine_similarity_k=3  \\\n",
       "0       [70, 117, 67]       [164, 189, 286]   \n",
       "1         [12, 1, 21]          [6, 286, 84]   \n",
       "2       [68, 32, 203]         [203, 30, 31]   \n",
       "3        [20, 36, 25]        [34, 119, 203]   \n",
       "4         [68, 46, 2]        [119, 203, 34]   \n",
       "\n",
       "  bm25_mugi_k=3_pages_num_queries=3_norerank  \\\n",
       "0                                [67, 67, 1]   \n",
       "1                               [1, 116, 40]   \n",
       "2                               [48, 48, 33]   \n",
       "3                                [1, 1, 117]   \n",
       "4                                 [1, 1, 14]   \n",
       "\n",
       "  bm25_mugi_k=3_pages_num_queries=5_norerank  \n",
       "0                               [67, 43, 43]  \n",
       "1                                 [1, 1, 36]  \n",
       "2                              [33, 97, 117]  \n",
       "3                                [1, 1, 119]  \n",
       "4                                [1, 1, 117]  "
      ]
     },
     "execution_count": 3,
     "metadata": {},
     "output_type": "execute_result"
    }
   ],
   "source": [
    "dataset.head()"
   ]
  },
  {
   "cell_type": "code",
   "execution_count": 19,
   "metadata": {},
   "outputs": [],
   "source": [
    "column = \"bm25_mugi_k=3_pages_num_queries=5_norerank\""
   ]
  },
  {
   "cell_type": "code",
   "execution_count": 20,
   "metadata": {},
   "outputs": [],
   "source": [
    "dataset[column] = dataset[column].apply(ast.literal_eval)"
   ]
  },
  {
   "cell_type": "code",
   "execution_count": 21,
   "metadata": {},
   "outputs": [],
   "source": [
    "sub_df = dataset[dataset.apply(lambda row: row[column][0] == row['Page'], axis=1)]"
   ]
  },
  {
   "cell_type": "code",
   "execution_count": 22,
   "metadata": {},
   "outputs": [],
   "source": [
    "bert_pipeline = ExtractiveQA(model_name=\"BERT\", data=sub_df)"
   ]
  },
  {
   "cell_type": "code",
   "execution_count": 23,
   "metadata": {},
   "outputs": [
    {
     "name": "stderr",
     "output_type": "stream",
     "text": [
      "  0%|          | 0/24 [00:00<?, ?it/s]Be aware, overflowing tokens are not returned for the setting you have chosen, i.e. sequence pairs with the 'longest_first' truncation strategy. So the returned list will always be empty even if some tokens have been removed.\n",
      "100%|██████████| 24/24 [00:49<00:00,  2.08s/it]\n",
      "/Users/Thoma/Documents/Github/CS224n_project/baseline - milestone/extractive_qa.py:60: SettingWithCopyWarning: \n",
      "A value is trying to be set on a copy of a slice from a DataFrame.\n",
      "Try using .loc[row_indexer,col_indexer] = value instead\n",
      "\n",
      "See the caveats in the documentation: https://pandas.pydata.org/pandas-docs/stable/user_guide/indexing.html#returning-a-view-versus-a-copy\n",
      "  self.data[['start_pred', 'end_pred', 'model_output']] = self.data.progress_apply(self._generate_single, axis=1, result_type='expand')\n",
      "/Users/Thoma/Documents/Github/CS224n_project/baseline - milestone/extractive_qa.py:60: SettingWithCopyWarning: \n",
      "A value is trying to be set on a copy of a slice from a DataFrame.\n",
      "Try using .loc[row_indexer,col_indexer] = value instead\n",
      "\n",
      "See the caveats in the documentation: https://pandas.pydata.org/pandas-docs/stable/user_guide/indexing.html#returning-a-view-versus-a-copy\n",
      "  self.data[['start_pred', 'end_pred', 'model_output']] = self.data.progress_apply(self._generate_single, axis=1, result_type='expand')\n",
      "/Users/Thoma/Documents/Github/CS224n_project/baseline - milestone/extractive_qa.py:60: SettingWithCopyWarning: \n",
      "A value is trying to be set on a copy of a slice from a DataFrame.\n",
      "Try using .loc[row_indexer,col_indexer] = value instead\n",
      "\n",
      "See the caveats in the documentation: https://pandas.pydata.org/pandas-docs/stable/user_guide/indexing.html#returning-a-view-versus-a-copy\n",
      "  self.data[['start_pred', 'end_pred', 'model_output']] = self.data.progress_apply(self._generate_single, axis=1, result_type='expand')\n",
      "/Users/Thoma/Documents/Github/CS224n_project/baseline - milestone/extractive_qa.py:63: SettingWithCopyWarning: \n",
      "A value is trying to be set on a copy of a slice from a DataFrame.\n",
      "Try using .loc[row_indexer,col_indexer] = value instead\n",
      "\n",
      "See the caveats in the documentation: https://pandas.pydata.org/pandas-docs/stable/user_guide/indexing.html#returning-a-view-versus-a-copy\n",
      "  self.data['Result'] = self.data.apply(self._verify_outputs, axis=1)\n"
     ]
    }
   ],
   "source": [
    "results_bert = bert_pipeline.generate()"
   ]
  },
  {
   "cell_type": "code",
   "execution_count": 24,
   "metadata": {},
   "outputs": [
    {
     "name": "stdout",
     "output_type": "stream",
     "text": [
      "Accuracy: 0.375\n"
     ]
    }
   ],
   "source": [
    "bert_pipeline.evaluate()"
   ]
  },
  {
   "cell_type": "code",
   "execution_count": 25,
   "metadata": {},
   "outputs": [
    {
     "name": "stdout",
     "output_type": "stream",
     "text": [
      "End to end accuracy: 0.18\n"
     ]
    }
   ],
   "source": [
    "print(f\"End to end accuracy: {results_bert['Result'].mean() * len(sub_df) / len(dataset)}\")"
   ]
  },
  {
   "cell_type": "code",
   "execution_count": 26,
   "metadata": {},
   "outputs": [],
   "source": [
    "roberta_pipeline = ExtractiveQA(model_name=\"RoBERTa\", data=sub_df)"
   ]
  },
  {
   "cell_type": "code",
   "execution_count": 27,
   "metadata": {},
   "outputs": [
    {
     "name": "stderr",
     "output_type": "stream",
     "text": [
      "  0%|          | 0/24 [00:00<?, ?it/s]Be aware, overflowing tokens are not returned for the setting you have chosen, i.e. sequence pairs with the 'longest_first' truncation strategy. So the returned list will always be empty even if some tokens have been removed.\n",
      "100%|██████████| 24/24 [00:24<00:00,  1.03s/it]\n",
      "/Users/Thoma/Documents/Github/CS224n_project/baseline - milestone/extractive_qa.py:60: SettingWithCopyWarning: \n",
      "A value is trying to be set on a copy of a slice from a DataFrame.\n",
      "Try using .loc[row_indexer,col_indexer] = value instead\n",
      "\n",
      "See the caveats in the documentation: https://pandas.pydata.org/pandas-docs/stable/user_guide/indexing.html#returning-a-view-versus-a-copy\n",
      "  self.data[['start_pred', 'end_pred', 'model_output']] = self.data.progress_apply(self._generate_single, axis=1, result_type='expand')\n",
      "/Users/Thoma/Documents/Github/CS224n_project/baseline - milestone/extractive_qa.py:63: SettingWithCopyWarning: \n",
      "A value is trying to be set on a copy of a slice from a DataFrame.\n",
      "Try using .loc[row_indexer,col_indexer] = value instead\n",
      "\n",
      "See the caveats in the documentation: https://pandas.pydata.org/pandas-docs/stable/user_guide/indexing.html#returning-a-view-versus-a-copy\n",
      "  self.data['Result'] = self.data.apply(self._verify_outputs, axis=1)\n"
     ]
    }
   ],
   "source": [
    "results_roberta = roberta_pipeline.generate()"
   ]
  },
  {
   "cell_type": "code",
   "execution_count": 28,
   "metadata": {},
   "outputs": [
    {
     "name": "stdout",
     "output_type": "stream",
     "text": [
      "Accuracy: 0.4166666666666667\n"
     ]
    }
   ],
   "source": [
    "roberta_pipeline.evaluate()"
   ]
  },
  {
   "cell_type": "code",
   "execution_count": 29,
   "metadata": {},
   "outputs": [
    {
     "name": "stdout",
     "output_type": "stream",
     "text": [
      "End to end accuracy: 0.2\n"
     ]
    }
   ],
   "source": [
    "print(f\"End to end accuracy: {results_roberta['Result'].mean() * len(sub_df) / len(dataset)}\")"
   ]
  },
  {
   "cell_type": "code",
   "execution_count": 30,
   "metadata": {},
   "outputs": [],
   "source": [
    "longformer_pipeline = ExtractiveQA(model_name=\"Longformer\", data=sub_df)"
   ]
  },
  {
   "cell_type": "code",
   "execution_count": 31,
   "metadata": {},
   "outputs": [
    {
     "name": "stderr",
     "output_type": "stream",
     "text": [
      "  0%|          | 0/24 [00:00<?, ?it/s]Be aware, overflowing tokens are not returned for the setting you have chosen, i.e. sequence pairs with the 'longest_first' truncation strategy. So the returned list will always be empty even if some tokens have been removed.\n",
      "100%|██████████| 24/24 [01:44<00:00,  4.36s/it]\n",
      "/Users/Thoma/Documents/Github/CS224n_project/baseline - milestone/extractive_qa.py:60: SettingWithCopyWarning: \n",
      "A value is trying to be set on a copy of a slice from a DataFrame.\n",
      "Try using .loc[row_indexer,col_indexer] = value instead\n",
      "\n",
      "See the caveats in the documentation: https://pandas.pydata.org/pandas-docs/stable/user_guide/indexing.html#returning-a-view-versus-a-copy\n",
      "  self.data[['start_pred', 'end_pred', 'model_output']] = self.data.progress_apply(self._generate_single, axis=1, result_type='expand')\n",
      "/Users/Thoma/Documents/Github/CS224n_project/baseline - milestone/extractive_qa.py:63: SettingWithCopyWarning: \n",
      "A value is trying to be set on a copy of a slice from a DataFrame.\n",
      "Try using .loc[row_indexer,col_indexer] = value instead\n",
      "\n",
      "See the caveats in the documentation: https://pandas.pydata.org/pandas-docs/stable/user_guide/indexing.html#returning-a-view-versus-a-copy\n",
      "  self.data['Result'] = self.data.apply(self._verify_outputs, axis=1)\n"
     ]
    }
   ],
   "source": [
    "results_longformer = longformer_pipeline.generate()"
   ]
  },
  {
   "cell_type": "code",
   "execution_count": 32,
   "metadata": {},
   "outputs": [
    {
     "name": "stdout",
     "output_type": "stream",
     "text": [
      "Accuracy: 0.16666666666666666\n"
     ]
    }
   ],
   "source": [
    "longformer_pipeline.evaluate()"
   ]
  },
  {
   "cell_type": "code",
   "execution_count": 33,
   "metadata": {},
   "outputs": [
    {
     "name": "stdout",
     "output_type": "stream",
     "text": [
      "End to end accuracy: 0.08\n"
     ]
    }
   ],
   "source": [
    "print(f\"End to end accuracy: {results_longformer['Result'].mean() * len(sub_df) / len(dataset)}\")"
   ]
  },
  {
   "cell_type": "code",
   "execution_count": null,
   "metadata": {},
   "outputs": [],
   "source": []
  }
 ],
 "metadata": {
  "kernelspec": {
   "display_name": "Thomas",
   "language": "python",
   "name": "python3"
  },
  "language_info": {
   "codemirror_mode": {
    "name": "ipython",
    "version": 3
   },
   "file_extension": ".py",
   "mimetype": "text/x-python",
   "name": "python",
   "nbconvert_exporter": "python",
   "pygments_lexer": "ipython3",
   "version": "3.10.13"
  }
 },
 "nbformat": 4,
 "nbformat_minor": 2
}
