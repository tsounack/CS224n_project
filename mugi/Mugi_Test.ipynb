{
 "cells": [
  {
   "cell_type": "code",
   "execution_count": null,
   "metadata": {},
   "outputs": [],
   "source": [
    "from mugi import generate_pseudo_references\n",
    "# from openai import OpenAI\n",
    "import os\n",
    "openai_key =  os.environ.get('OPENAI_KEY')\n",
    "client = OpenAI(api_key=openai_key)\n",
    "new_topics = generate_pseudo_references(topics, generated_document_num=3)"
   ]
  }
 ],
 "metadata": {
  "language_info": {
   "name": "python"
  }
 },
 "nbformat": 4,
 "nbformat_minor": 2
}
