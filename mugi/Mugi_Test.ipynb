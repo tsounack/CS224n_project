{
 "cells": [
  {
   "cell_type": "code",
   "execution_count": 1,
   "metadata": {},
   "outputs": [],
   "source": [
    "topics={ 264014: {'title': \"how long is life cycle of flea\"}}"
   ]
  },
  {
   "cell_type": "code",
   "execution_count": 2,
   "metadata": {},
   "outputs": [],
   "source": [
    "from mugi import generate_pseudo_references, run_retriever\n",
    "from openai import OpenAI\n",
    "import os\n",
    "from dotenv import load_dotenv\n",
    "import os\n",
    "\n",
    "# Load variables from .env file into environment\n",
    "load_dotenv('.env')\n",
    "\n",
    "# Access the environment variable\n",
    "openai_key = os.getenv(\"OPENAI_API_KEY\")\n",
    "global client\n",
    "# openai_key = os.environ.get('OPENAI_KEY')\n",
    "client = OpenAI(api_key=openai_key)"
   ]
  },
  {
   "cell_type": "code",
   "execution_count": 3,
   "metadata": {},
   "outputs": [
    {
     "data": {
      "text/plain": [
       "<openai.OpenAI at 0x1045a9a20>"
      ]
     },
     "execution_count": 3,
     "metadata": {},
     "output_type": "execute_result"
    }
   ],
   "source": [
    "client"
   ]
  },
  {
   "cell_type": "code",
   "execution_count": 4,
   "metadata": {},
   "outputs": [
    {
     "name": "stdout",
     "output_type": "stream",
     "text": [
      "test\n"
     ]
    },
    {
     "name": "stderr",
     "output_type": "stream",
     "text": [
      "  0%|          | 0/1 [00:00<?, ?it/s]"
     ]
    },
    {
     "name": "stdout",
     "output_type": "stream",
     "text": [
      "<openai.OpenAI object at 0x2b02a0040>\n"
     ]
    },
    {
     "name": "stderr",
     "output_type": "stream",
     "text": [
      "2024-03-06 18:25:47,285 HTTP Request: POST https://api.openai.com/v1/chat/completions \"HTTP/1.1 200 OK\"\n",
      "2024-03-06 18:25:49,902 HTTP Request: POST https://api.openai.com/v1/chat/completions \"HTTP/1.1 200 OK\"\n",
      "2024-03-06 18:25:52,242 HTTP Request: POST https://api.openai.com/v1/chat/completions \"HTTP/1.1 200 OK\"\n",
      "100%|██████████| 1/1 [00:07<00:00,  7.86s/it]\n"
     ]
    }
   ],
   "source": [
    "new_topics = generate_pseudo_references('gpt-3.5-turbo-1106',topics, generated_document_num=3)"
   ]
  },
  {
   "cell_type": "code",
   "execution_count": 5,
   "metadata": {},
   "outputs": [],
   "source": [
    "topics = new_topics"
   ]
  },
  {
   "cell_type": "code",
   "execution_count": 13,
   "metadata": {},
   "outputs": [
    {
     "name": "stdout",
     "output_type": "stream",
     "text": [
      "({264014: {'title': 'how long is life cycle of flea', 'gen_cand_gpt35': ['The life cycle of a flea typically lasts around 2-3 months, but it can vary depending on environmental conditions such as temperature and humidity. Fleas undergo complete metamorphosis, including four stages: egg, larva, pupa, and adult. The entire life cycle consists of egg hatching (2 days to 2 weeks), larval development (5 days to several months), pupation (7-10 days to several weeks), and emergence of the adult flea.', 'The life cycle of a flea typically lasts around 2-3 months, although it can vary depending on environmental factors such as temperature and humidity. Fleas go through four distinct stages: egg, larva, pupa, and adult. The entire life cycle can be completed in as little as two weeks under ideal conditions, but may take longer in less favorable environments. Understanding the life cycle of fleas is important for effective control and prevention of infestations.', 'The life cycle of a flea typically ranges from 14 days to several months, depending on environmental conditions such as temperature and humidity. Fleas go through four main stages: egg, larva, pupa, and adult. Under optimal conditions, the entire life cycle can be completed in as little as two weeks, but it may take longer in less favorable environments.'], 'enhanced_query': 'how long is life cycle of flea how long is life cycle of flea how long is life cycle of flea how long is life cycle of flea how long is life cycle of flea how long is life cycle of flea how long is life cycle of flea how long is life cycle of flea The life cycle of a flea typically lasts around 2-3 months, but it can vary depending on environmental conditions such as temperature and humidity. Fleas undergo complete metamorphosis, including four stages: egg, larva, pupa, and adult. The entire life cycle consists of egg hatching (2 days to 2 weeks), larval development (5 days to several months), pupation (7-10 days to several weeks), and emergence of the adult flea. The life cycle of a flea typically lasts around 2-3 months, although it can vary depending on environmental factors such as temperature and humidity. Fleas go through four distinct stages: egg, larva, pupa, and adult. The entire life cycle can be completed in as little as two weeks under ideal conditions, but may take longer in less favorable environments. Understanding the life cycle of fleas is important for effective control and prevention of infestations. The life cycle of a flea typically ranges from 14 days to several months, depending on environmental conditions such as temperature and humidity. Fleas go through four main stages: egg, larva, pupa, and adult. Under optimal conditions, the entire life cycle can be completed in as little as two weeks, but it may take longer in less favorable environments.'}}, 'gen_cand_4')\n"
     ]
    }
   ],
   "source": [
    "from mugi import run_retriever\n",
    "import utils\n",
    "from pyserini.search import LuceneSearcher, get_topics, get_qrels\n",
    "searcher = LuceneSearcher.from_prebuilt_index('msmarco-v1-passage')\n",
    "print(topics)"
   ]
  },
  {
   "cell_type": "code",
   "execution_count": 21,
   "metadata": {},
   "outputs": [
    {
     "ename": "JavaException",
     "evalue": "JVM exception occurred: Lock held by this virtual machine: /Users/adambanga/Documents/EDUCATION/Stanford Masters/Stanford Year 2/Winter Quarter/Natural Language Processing(CS 224N)/CS224n_project/mugi/Data/index/write.lock org.apache.lucene.store.LockObtainFailedException",
     "output_type": "error",
     "traceback": [
      "\u001b[0;31m---------------------------------------------------------------------------\u001b[0m",
      "\u001b[0;31mJavaException\u001b[0m                             Traceback (most recent call last)",
      "Cell \u001b[0;32mIn[21], line 48\u001b[0m\n\u001b[1;32m     45\u001b[0m pdf_text \u001b[38;5;241m=\u001b[39m extract_text_from_pdf(pdf_path)\n\u001b[1;32m     47\u001b[0m \u001b[38;5;66;03m# Index text with Lucene\u001b[39;00m\n\u001b[0;32m---> 48\u001b[0m \u001b[43mindex_text_with_lucene\u001b[49m\u001b[43m(\u001b[49m\u001b[43mpdf_text\u001b[49m\u001b[43m,\u001b[49m\u001b[43m \u001b[49m\u001b[43mindex_path\u001b[49m\u001b[43m)\u001b[49m\n\u001b[1;32m     50\u001b[0m \u001b[38;5;66;03m# Now you can create a Lucene searcher\u001b[39;00m\n\u001b[1;32m     51\u001b[0m searcher2 \u001b[38;5;241m=\u001b[39m LuceneSearcher\u001b[38;5;241m.\u001b[39mfrom_index(index_path)\n",
      "Cell \u001b[0;32mIn[21], line 30\u001b[0m, in \u001b[0;36mindex_text_with_lucene\u001b[0;34m(pdf_text, index_path)\u001b[0m\n\u001b[1;32m     28\u001b[0m config \u001b[38;5;241m=\u001b[39m IndexWriterConfig(analyzer)\n\u001b[1;32m     29\u001b[0m directory \u001b[38;5;241m=\u001b[39m SimpleFSDirectory(File(index_path)\u001b[38;5;241m.\u001b[39mtoPath())\n\u001b[0;32m---> 30\u001b[0m writer \u001b[38;5;241m=\u001b[39m \u001b[43mIndexWriter\u001b[49m\u001b[43m(\u001b[49m\u001b[43mdirectory\u001b[49m\u001b[43m,\u001b[49m\u001b[43m \u001b[49m\u001b[43mconfig\u001b[49m\u001b[43m)\u001b[49m\n\u001b[1;32m     32\u001b[0m doc \u001b[38;5;241m=\u001b[39m Document()\n\u001b[1;32m     33\u001b[0m doc\u001b[38;5;241m.\u001b[39madd(TextField(\u001b[38;5;124m\"\u001b[39m\u001b[38;5;124mcontent\u001b[39m\u001b[38;5;124m\"\u001b[39m, pdf_text, Field\u001b[38;5;241m.\u001b[39mStoreField\u001b[38;5;241m.\u001b[39mYES))\n",
      "File \u001b[0;32mjnius/jnius_export_class.pxi:269\u001b[0m, in \u001b[0;36mjnius.JavaClass.__init__\u001b[0;34m()\u001b[0m\n",
      "File \u001b[0;32mjnius/jnius_export_class.pxi:383\u001b[0m, in \u001b[0;36mjnius.JavaClass.call_constructor\u001b[0;34m()\u001b[0m\n",
      "File \u001b[0;32mjnius/jnius_utils.pxi:79\u001b[0m, in \u001b[0;36mjnius.check_exception\u001b[0;34m()\u001b[0m\n",
      "\u001b[0;31mJavaException\u001b[0m: JVM exception occurred: Lock held by this virtual machine: /Users/adambanga/Documents/EDUCATION/Stanford Masters/Stanford Year 2/Winter Quarter/Natural Language Processing(CS 224N)/CS224n_project/mugi/Data/index/write.lock org.apache.lucene.store.LockObtainFailedException"
     ]
    }
   ],
   "source": [
    "from PyPDF2 import PdfFileReader\n",
    "from jnius import autoclass\n",
    "\n",
    "# Import necessary Lucene classes\n",
    "IndexWriterConfig = autoclass('org.apache.lucene.index.IndexWriterConfig')\n",
    "StandardAnalyzer = autoclass('org.apache.lucene.analysis.standard.StandardAnalyzer')\n",
    "IndexWriter = autoclass('org.apache.lucene.index.IndexWriter')\n",
    "Document = autoclass('org.apache.lucene.document.Document')\n",
    "Field = autoclass('org.apache.lucene.document.Field')\n",
    "TextField = autoclass('org.apache.lucene.document.TextField')\n",
    "File = autoclass('java.io.File')\n",
    "SimpleFSDirectory = autoclass('org.apache.lucene.store.NIOFSDirectory')\n",
    "Version = autoclass('org.apache.lucene.util.Version')\n",
    "\n",
    "# Function to extract text from PDF\n",
    "def extract_text_from_pdf(pdf_path):\n",
    "    text = \"\"\n",
    "    with open(pdf_path, \"rb\") as f:\n",
    "        reader = PdfFileReader(f)\n",
    "        for page_num in range(reader.numPages):\n",
    "            page = reader.getPage(page_num)\n",
    "            text += page.extractText()\n",
    "    return text\n",
    "\n",
    "# Function to index text with Lucene\n",
    "def index_text_with_lucene(pdf_text, index_path):\n",
    "    analyzer = StandardAnalyzer()\n",
    "    config = IndexWriterConfig(analyzer)\n",
    "    directory = SimpleFSDirectory(File(index_path).toPath())\n",
    "    writer = IndexWriter(directory, config)\n",
    "\n",
    "    doc = Document()\n",
    "    doc.add(TextField(\"content\", pdf_text, Field.StoreField.YES))\n",
    "    writer.addDocument(doc)\n",
    "\n",
    "    writer.close()\n",
    "\n",
    "# Path to the PDF file\n",
    "pdf_path = \"../Data/Lakers_Specification.pdf\"\n",
    "\n",
    "# Path to store Lucene index\n",
    "index_path = \"Data/index\"\n",
    "\n",
    "# Extract text from PDF\n",
    "pdf_text = extract_text_from_pdf(pdf_path)\n",
    "\n",
    "# Index text with Lucene\n",
    "index_text_with_lucene(pdf_text, index_path)\n",
    "\n",
    "# Now you can create a Lucene searcher\n",
    "searcher2 = LuceneSearcher.from_index(index_path)\n"
   ]
  },
  {
   "cell_type": "code",
   "execution_count": 14,
   "metadata": {},
   "outputs": [
    {
     "name": "stderr",
     "output_type": "stream",
     "text": [
      "2024-03-06 18:31:11,166 Running BM25 on query: how long is life cycle of flea\n"
     ]
    }
   ],
   "source": [
    "repetition_ratio=5\n",
    "articles_num=3\n",
    "topic, gen_key = topics\n",
    "for key in topic:\n",
    "      query = topic[key]['title']\n",
    "      gen_ref = ' '.join(topic[key]['gen_cand_gpt35'][:articles_num])\n",
    "      repetition_times = (len(gen_ref)//len(query))//repetition_ratio\n",
    "      topic[key]['enhanced_query'] = (query + ' ')*repetition_times + gen_ref\n",
    "# bm25_rank_results = run_retriever(topic, searcher, gen_key, k=100)\n",
    "# eval nDCG@10\n",
    "# bm25_rank_score=utils.evaluate_bm25(bm25_rank_results,'dl19-passage')\n",
    "# print(bm25_rank_score)"
   ]
  },
  {
   "cell_type": "code",
   "execution_count": 22,
   "metadata": {},
   "outputs": [
    {
     "data": {
      "text/plain": [
       "{264014: {'title': 'how long is life cycle of flea',\n",
       "  'gen_cand_gpt35': ['The life cycle of a flea typically lasts around 2-3 months, but it can vary depending on environmental conditions such as temperature and humidity. Fleas undergo complete metamorphosis, including four stages: egg, larva, pupa, and adult. The entire life cycle consists of egg hatching (2 days to 2 weeks), larval development (5 days to several months), pupation (7-10 days to several weeks), and emergence of the adult flea.',\n",
       "   'The life cycle of a flea typically lasts around 2-3 months, although it can vary depending on environmental factors such as temperature and humidity. Fleas go through four distinct stages: egg, larva, pupa, and adult. The entire life cycle can be completed in as little as two weeks under ideal conditions, but may take longer in less favorable environments. Understanding the life cycle of fleas is important for effective control and prevention of infestations.',\n",
       "   'The life cycle of a flea typically ranges from 14 days to several months, depending on environmental conditions such as temperature and humidity. Fleas go through four main stages: egg, larva, pupa, and adult. Under optimal conditions, the entire life cycle can be completed in as little as two weeks, but it may take longer in less favorable environments.'],\n",
       "  'enhanced_query': 'how long is life cycle of flea how long is life cycle of flea how long is life cycle of flea how long is life cycle of flea how long is life cycle of flea how long is life cycle of flea how long is life cycle of flea how long is life cycle of flea The life cycle of a flea typically lasts around 2-3 months, but it can vary depending on environmental conditions such as temperature and humidity. Fleas undergo complete metamorphosis, including four stages: egg, larva, pupa, and adult. The entire life cycle consists of egg hatching (2 days to 2 weeks), larval development (5 days to several months), pupation (7-10 days to several weeks), and emergence of the adult flea. The life cycle of a flea typically lasts around 2-3 months, although it can vary depending on environmental factors such as temperature and humidity. Fleas go through four distinct stages: egg, larva, pupa, and adult. The entire life cycle can be completed in as little as two weeks under ideal conditions, but may take longer in less favorable environments. Understanding the life cycle of fleas is important for effective control and prevention of infestations. The life cycle of a flea typically ranges from 14 days to several months, depending on environmental conditions such as temperature and humidity. Fleas go through four main stages: egg, larva, pupa, and adult. Under optimal conditions, the entire life cycle can be completed in as little as two weeks, but it may take longer in less favorable environments.'}}"
      ]
     },
     "execution_count": 22,
     "metadata": {},
     "output_type": "execute_result"
    }
   ],
   "source": [
    "topic"
   ]
  },
  {
   "cell_type": "code",
   "execution_count": 9,
   "metadata": {},
   "outputs": [
    {
     "data": {
      "application/vnd.jupyter.widget-view+json": {
       "model_id": "4a1515ae272f45409b8567bbecec53ff",
       "version_major": 2,
       "version_minor": 0
      },
      "text/plain": [
       "tokenizer_config.json:   0%|          | 0.00/363 [00:00<?, ?B/s]"
      ]
     },
     "metadata": {},
     "output_type": "display_data"
    },
    {
     "data": {
      "application/vnd.jupyter.widget-view+json": {
       "model_id": "5cf94e5e55ce46b18e38672fd860d1b5",
       "version_major": 2,
       "version_minor": 0
      },
      "text/plain": [
       "vocab.txt:   0%|          | 0.00/232k [00:00<?, ?B/s]"
      ]
     },
     "metadata": {},
     "output_type": "display_data"
    },
    {
     "data": {
      "application/vnd.jupyter.widget-view+json": {
       "model_id": "904b32dd90624b7bb9ca2b69f3a3375d",
       "version_major": 2,
       "version_minor": 0
      },
      "text/plain": [
       "tokenizer.json:   0%|          | 0.00/466k [00:00<?, ?B/s]"
      ]
     },
     "metadata": {},
     "output_type": "display_data"
    },
    {
     "data": {
      "application/vnd.jupyter.widget-view+json": {
       "model_id": "3d6937e840704bc4a682b3a015199c5e",
       "version_major": 2,
       "version_minor": 0
      },
      "text/plain": [
       "special_tokens_map.json:   0%|          | 0.00/239 [00:00<?, ?B/s]"
      ]
     },
     "metadata": {},
     "output_type": "display_data"
    },
    {
     "name": "stderr",
     "output_type": "stream",
     "text": [
      "  0%|          | 0/2 [00:00<?, ?it/s]\n"
     ]
    },
    {
     "ename": "TypeError",
     "evalue": "string indices must be integers",
     "output_type": "error",
     "traceback": [
      "\u001b[0;31m---------------------------------------------------------------------------\u001b[0m",
      "\u001b[0;31mTypeError\u001b[0m                                 Traceback (most recent call last)",
      "Cell \u001b[0;32mIn[9], line 3\u001b[0m\n\u001b[1;32m      1\u001b[0m \u001b[38;5;28;01mfrom\u001b[39;00m \u001b[38;5;21;01mmodel\u001b[39;00m \u001b[38;5;28;01mimport\u001b[39;00m get_language_model, get_reranker\n\u001b[1;32m      2\u001b[0m reranker_model \u001b[38;5;241m=\u001b[39m get_reranker(model_name \u001b[38;5;241m=\u001b[39m \u001b[38;5;124m'\u001b[39m\u001b[38;5;124msentence-transformers/all-mpnet-base-v2\u001b[39m\u001b[38;5;124m'\u001b[39m, mode \u001b[38;5;241m=\u001b[39m \u001b[38;5;124m'\u001b[39m\u001b[38;5;124mconcat\u001b[39m\u001b[38;5;124m'\u001b[39m)\n\u001b[0;32m----> 3\u001b[0m rerank_result \u001b[38;5;241m=\u001b[39m \u001b[43mreranker_model\u001b[49m\u001b[38;5;241;43m.\u001b[39;49m\u001b[43mrerank\u001b[49m\u001b[43m(\u001b[49m\u001b[43mbm25_rank_results\u001b[49m\u001b[43m,\u001b[49m\u001b[38;5;124;43m'\u001b[39;49m\u001b[38;5;124;43mgen_cand_gpt35\u001b[39;49m\u001b[38;5;124;43m'\u001b[39;49m\u001b[43m,\u001b[49m\u001b[38;5;241;43m100\u001b[39;49m\u001b[43m,\u001b[49m\u001b[43muse_enhanced_query\u001b[49m\u001b[38;5;241;43m=\u001b[39;49m\u001b[38;5;28;43;01mTrue\u001b[39;49;00m\u001b[43m)\u001b[49m\n\u001b[1;32m      4\u001b[0m rerank_score \u001b[38;5;241m=\u001b[39m utils\u001b[38;5;241m.\u001b[39mevalute_dict(rerank_result,\u001b[38;5;124m'\u001b[39m\u001b[38;5;124mdl19-passage\u001b[39m\u001b[38;5;124m'\u001b[39m)\n\u001b[1;32m      5\u001b[0m \u001b[38;5;28mprint\u001b[39m(rerank_score)\n",
      "File \u001b[0;32m~/Documents/EDUCATION/Stanford Masters/Stanford Year 2/Winter Quarter/Natural Language Processing(CS 224N)/CS224n_project/mugi/model/reranker.py:93\u001b[0m, in \u001b[0;36mReranker.rerank\u001b[0;34m(self, rank_result, gen_key, topk, use_enhanced_query)\u001b[0m\n\u001b[1;32m     91\u001b[0m rerank_result \u001b[38;5;241m=\u001b[39m {}\n\u001b[1;32m     92\u001b[0m \u001b[38;5;28;01mfor\u001b[39;00m item \u001b[38;5;129;01min\u001b[39;00m tqdm(rank_result):\n\u001b[0;32m---> 93\u001b[0m     query \u001b[38;5;241m=\u001b[39m \u001b[38;5;28;43mself\u001b[39;49m\u001b[38;5;241;43m.\u001b[39;49m\u001b[43mquery_enhance\u001b[49m\u001b[43m(\u001b[49m\u001b[43mitem\u001b[49m\u001b[43m,\u001b[49m\u001b[43m \u001b[49m\u001b[43mgen_key\u001b[49m\u001b[43m)\u001b[49m \u001b[38;5;28;01mif\u001b[39;00m use_enhanced_query \u001b[38;5;28;01melse\u001b[39;00m item[\u001b[38;5;124m'\u001b[39m\u001b[38;5;124mquery\u001b[39m\u001b[38;5;124m'\u001b[39m]\n\u001b[1;32m     94\u001b[0m     query_embed \u001b[38;5;241m=\u001b[39m \u001b[38;5;28mself\u001b[39m\u001b[38;5;241m.\u001b[39membed(query)\n\u001b[1;32m     95\u001b[0m     docs \u001b[38;5;241m=\u001b[39m [hit[\u001b[38;5;124m'\u001b[39m\u001b[38;5;124mcontent\u001b[39m\u001b[38;5;124m'\u001b[39m] \u001b[38;5;28;01mfor\u001b[39;00m hit \u001b[38;5;129;01min\u001b[39;00m item[\u001b[38;5;124m'\u001b[39m\u001b[38;5;124mhits\u001b[39m\u001b[38;5;124m'\u001b[39m][:topk]]\n",
      "File \u001b[0;32m~/Documents/EDUCATION/Stanford Masters/Stanford Year 2/Winter Quarter/Natural Language Processing(CS 224N)/CS224n_project/mugi/model/reranker.py:78\u001b[0m, in \u001b[0;36mReranker.query_enhance\u001b[0;34m(self, item, gen_key)\u001b[0m\n\u001b[1;32m     76\u001b[0m \u001b[38;5;28;01mdef\u001b[39;00m \u001b[38;5;21mquery_enhance\u001b[39m(\u001b[38;5;28mself\u001b[39m, item, gen_key):\n\u001b[1;32m     77\u001b[0m     query_modes \u001b[38;5;241m=\u001b[39m {\n\u001b[0;32m---> 78\u001b[0m         \u001b[38;5;124m\"\u001b[39m\u001b[38;5;124malternate\u001b[39m\u001b[38;5;124m\"\u001b[39m:   \u001b[43mitem\u001b[49m\u001b[43m[\u001b[49m\u001b[38;5;124;43m\"\u001b[39;49m\u001b[38;5;124;43mquery\u001b[39;49m\u001b[38;5;124;43m\"\u001b[39;49m\u001b[43m]\u001b[49m\n\u001b[1;32m     79\u001b[0m             \u001b[38;5;241m+\u001b[39m item[\u001b[38;5;124m\"\u001b[39m\u001b[38;5;124mgen_key\u001b[39m\u001b[38;5;124m\"\u001b[39m][\u001b[38;5;241m0\u001b[39m]\n\u001b[1;32m     80\u001b[0m             \u001b[38;5;241m+\u001b[39m item[\u001b[38;5;124m\"\u001b[39m\u001b[38;5;124mquery\u001b[39m\u001b[38;5;124m\"\u001b[39m]\n\u001b[1;32m     81\u001b[0m             \u001b[38;5;241m+\u001b[39m item[\u001b[38;5;124m\"\u001b[39m\u001b[38;5;124mgen_key\u001b[39m\u001b[38;5;124m\"\u001b[39m][\u001b[38;5;241m1\u001b[39m]\n\u001b[1;32m     82\u001b[0m             \u001b[38;5;241m+\u001b[39m item[\u001b[38;5;124m\"\u001b[39m\u001b[38;5;124mquery\u001b[39m\u001b[38;5;124m\"\u001b[39m]\n\u001b[1;32m     83\u001b[0m             \u001b[38;5;241m+\u001b[39m item[\u001b[38;5;124m\"\u001b[39m\u001b[38;5;124mgen_key\u001b[39m\u001b[38;5;124m\"\u001b[39m][\u001b[38;5;241m2\u001b[39m],\n\u001b[1;32m     84\u001b[0m         \u001b[38;5;124m\"\u001b[39m\u001b[38;5;124mconcat\u001b[39m\u001b[38;5;124m\"\u001b[39m: item[\u001b[38;5;124m'\u001b[39m\u001b[38;5;124mquery\u001b[39m\u001b[38;5;124m'\u001b[39m] \u001b[38;5;241m+\u001b[39m \u001b[38;5;124m'\u001b[39m\u001b[38;5;124m'\u001b[39m\u001b[38;5;241m.\u001b[39mjoin(item[gen_key]),\n\u001b[1;32m     85\u001b[0m         \u001b[38;5;124m\"\u001b[39m\u001b[38;5;124mquery\u001b[39m\u001b[38;5;124m\"\u001b[39m: get_detailed_instruct(task, item[\u001b[38;5;124m'\u001b[39m\u001b[38;5;124mquery\u001b[39m\u001b[38;5;124m'\u001b[39m]) \u001b[38;5;28;01mif\u001b[39;00m \u001b[38;5;124m\"\u001b[39m\u001b[38;5;124mmistral\u001b[39m\u001b[38;5;124m\"\u001b[39m \u001b[38;5;129;01min\u001b[39;00m \u001b[38;5;28mself\u001b[39m\u001b[38;5;241m.\u001b[39mmodel_name \u001b[38;5;28;01melse\u001b[39;00m item[\u001b[38;5;124m'\u001b[39m\u001b[38;5;124mquery\u001b[39m\u001b[38;5;124m'\u001b[39m],\n\u001b[1;32m     86\u001b[0m         \u001b[38;5;124m\"\u001b[39m\u001b[38;5;124mqg\u001b[39m\u001b[38;5;124m\"\u001b[39m: item[\u001b[38;5;124m'\u001b[39m\u001b[38;5;124mquery\u001b[39m\u001b[38;5;124m'\u001b[39m] \u001b[38;5;241m+\u001b[39m item[gen_key][\u001b[38;5;241m0\u001b[39m]\n\u001b[1;32m     87\u001b[0m     }\n\u001b[1;32m     88\u001b[0m     \u001b[38;5;28;01mreturn\u001b[39;00m query_modes\u001b[38;5;241m.\u001b[39mget(\u001b[38;5;28mself\u001b[39m\u001b[38;5;241m.\u001b[39mmode, item[\u001b[38;5;124m'\u001b[39m\u001b[38;5;124mquery\u001b[39m\u001b[38;5;124m'\u001b[39m])\n",
      "\u001b[0;31mTypeError\u001b[0m: string indices must be integers"
     ]
    }
   ],
   "source": [
    "from model import get_language_model, get_reranker\n",
    "reranker_model = get_reranker(model_name = 'sentence-transformers/all-mpnet-base-v2', mode = 'concat')\n",
    "rerank_result = reranker_model.rerank(bm25_rank_results,'gen_cand_gpt35',100,use_enhanced_query=True)\n",
    "rerank_score = utils.evalute_dict(rerank_result,'dl19-passage')\n",
    "print(rerank_score)"
   ]
  },
  {
   "cell_type": "code",
   "execution_count": null,
   "metadata": {},
   "outputs": [],
   "source": []
  }
 ],
 "metadata": {
  "kernelspec": {
   "display_name": "cs224n",
   "language": "python",
   "name": "python3"
  },
  "language_info": {
   "codemirror_mode": {
    "name": "ipython",
    "version": 3
   },
   "file_extension": ".py",
   "mimetype": "text/x-python",
   "name": "python",
   "nbconvert_exporter": "python",
   "pygments_lexer": "ipython3",
   "version": "3.10.13"
  }
 },
 "nbformat": 4,
 "nbformat_minor": 2
}
